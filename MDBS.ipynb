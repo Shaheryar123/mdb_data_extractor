{
 "cells": [
  {
   "cell_type": "code",
   "execution_count": 2,
   "metadata": {
    "scrolled": true
   },
   "outputs": [
    {
     "name": "stdout",
     "output_type": "stream",
     "text": [
      "MZW6_3118_CL_312C_5_InE_01.mdb\n",
      "MZW6_3118_CL_312C_6_DcW_01.mdb\n",
      "MZW6_3118_CL_312D_5_InE_01.mdb\n",
      "MZW6_3118_CL_312D_6_DcW_01.mdb\n",
      "MZW6_3118_CL_312E_5_InE_01.mdb\n",
      "MZW6_3118_CL_312E_6_DcW_01.mdb\n"
     ]
    }
   ],
   "source": [
    "import os\n",
    "from access_parser import AccessParser\n",
    "import pandas as pd\n",
    "from datetime import date\n",
    "location = \"D:\\\\Shaheryar\\\\KeyCodeandSummary\\\\APRIL ROADS\\\\4_ROADS\\\\MISSINGS MDBs\"\n",
    "\n",
    "# Print DB tables\n",
    "#print(db.catalog)\n",
    "df1 = pd.DataFrame()\n",
    "# Tables are stored as defaultdict(list) -- table[column][row_index]\n",
    "files = os.listdir(location)\n",
    "for a in files: \n",
    "    file = location+\"\\\\\"+a\n",
    "    db = AccessParser(file)\n",
    "    table_name = \"LCMS_Raveling_Processed_\"+a[0:-4]\n",
    "    try:\n",
    "        table = db.parse_table(table_name)\n",
    "        df = pd.DataFrame(table)\n",
    "        df['SURVEY_ID'] = a[0:-4]\n",
    "        df1 = df1.append(df,ignore_index=True)\n",
    "        print(a)\n",
    "    except:\n",
    "        print('Missing '+a[0:-5])\n",
    "    \n",
    "df1.to_excel(location+\"\\\\\"+\"master_IMAGE\"+\".xlsx\")\n",
    "#display(df1)\n",
    "#print(df['SURVEY_DATE'])"
   ]
  },
  {
   "cell_type": "code",
   "execution_count": null,
   "metadata": {},
   "outputs": [],
   "source": [
    "9/20/2020 12:59:41 PM\n",
    "SURVEY_DATE\n"
   ]
  },
  {
   "cell_type": "code",
   "execution_count": null,
   "metadata": {},
   "outputs": [],
   "source": []
  }
 ],
 "metadata": {
  "kernelspec": {
   "display_name": "Python 3",
   "language": "python",
   "name": "python3"
  },
  "language_info": {
   "codemirror_mode": {
    "name": "ipython",
    "version": 3
   },
   "file_extension": ".py",
   "mimetype": "text/x-python",
   "name": "python",
   "nbconvert_exporter": "python",
   "pygments_lexer": "ipython3",
   "version": "3.8.8"
  }
 },
 "nbformat": 4,
 "nbformat_minor": 4
}
